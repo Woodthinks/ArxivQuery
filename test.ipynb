{
 "cells": [
  {
   "cell_type": "code",
   "execution_count": 2,
   "metadata": {},
   "outputs": [],
   "source": [
    "#!/usr/bin/python\n",
    "# -*| coding: UTF|8 |*|\n",
    "\n",
    "# from string import maketrans   # 必须调用 maketrans 函数。\n",
    "import requests\n",
    "import feedparser\n",
    "import re\n",
    "import os\n",
    "from datetime import datetime\n",
    "from urllib.parse import urljoin"
   ]
  },
  {
   "cell_type": "code",
   "execution_count": 19,
   "metadata": {},
   "outputs": [],
   "source": [
    "def arXivFind(params:list, id_list=None,start=0, max_results=10,rules=\"AND\"):\n",
    "    \"\"\"\n",
    "    Find papers with given parameters.\n",
    "\n",
    "    :param params: A list of strings containing search requirements (Key:context, e.g. [\"ti:graph\",\"all:minor\"]).\n",
    "    \n",
    "        Search keys:\n",
    "        - ti: Title\n",
    "        - au: Author\n",
    "        - abs: Abstract\n",
    "        - co: Comment\n",
    "        - jr: Journal Reference\n",
    "        - cat: Subject Category\n",
    "        - rn: Report Number\n",
    "        - id: Id (use id_list instead)\n",
    "        - all: A combined search of all the above\n",
    "    :param id_list (Optional): A list of specific paper IDs to filter by (e.g. []), default is None (No filters).\n",
    "    :param start (Optional): The starting index of the query, with 0 being the first, default is 0. \n",
    "    :param max_result (Optional): The number of collections returned by the query, default is 10.\n",
    "    :param rules (Optional): The logical rules that are satisfied between all conditions, allowing \"AND\"(default) and \"OR\". Or a list with \"AND\", \"OR\", \"ANDNOT\"/\"NOT\".\n",
    "    \"\"\"\n",
    "\n",
    "    assert (params is not None) or (id_list is not None), \"Invalid Find parameters(Empty)\"\n",
    "\n",
    "    qstr = \"\"\n",
    "    if params is not None:\n",
    "        qstr = \"search_query=\"+ params[0]\n",
    "        if isinstance(rules,str):\n",
    "            rules = [rules]\n",
    "        l = len(rules)\n",
    "        for id,param in enumerate(params[1:]):\n",
    "            qstr += f\"+{rules[id%l]}+{param}\"\n",
    "\n",
    "    istr = \"\"\n",
    "    if id_list is not None:\n",
    "        istr = \",\".join(id_list)\n",
    "        istr = \"id_list=\" + istr\n",
    "    \n",
    "    qistr = qstr + \"&\" if qstr is not None and istr is not None else \"\" + istr\n",
    "\n",
    "    return arxivQuery(qistr+f\"&start={start}&max_results={max_results}\")\n",
    "\n",
    "    pass\n",
    "\n",
    "# http://export.arxiv.org/api/query?search_query=cat:cs.CC+AND+submittedDate:[19990101+TO+20251231]&sortBy=submittedDate&sortOrder=descending\n",
    "\n",
    "def arxivQuery(query, start=0, max_results=10):\n",
    "    base_url = \"http://export.arxiv.org/api/query?\"\n",
    "    url = base_url + query\n",
    "    print(url)\n",
    "    try:\n",
    "        # 发送 HTTP 请求获取文章列表\n",
    "        response = requests.get(url)\n",
    "        if response.status_code != 200:\n",
    "            print(f\"Failed to fetch data from arXiv API. Status code: {response.status_code}\")\n",
    "            return\n",
    "\n",
    "        # 解析 RSS feed\n",
    "        feed = feedparser.parse(response.content)\n",
    "        return feed\n",
    "    except requests.exceptions.RequestException as e:\n",
    "        print(f\"Internet Request Error: {e}\")\n",
    "    except Exception as e:\n",
    "        print(f\"Unexpected Error: {e}\")\n",
    "    pass"
   ]
  },
  {
   "cell_type": "code",
   "execution_count": 23,
   "metadata": {},
   "outputs": [],
   "source": [
    "def sanitize_filename(title):\n",
    "    \"\"\"\n",
    "    将标题转换为合法的文件名。\n",
    "    \"\"\"\n",
    "    # 去除非法字符\n",
    "    safe_title = re.sub(r'[^\\w_ ]', '_', title)\n",
    "    # 替换空格为下划线\n",
    "    return safe_title.replace(' ', '_').replace('__','_').replace('__','_').replace('__','_').replace('__','_')\n",
    "\n",
    "def checkEntries(feed):\n",
    "    for entry in feed.entries:\n",
    "        try:\n",
    "            title = sanitize_filename(entry.title)\n",
    "        except Exception as e:\n",
    "            print(f\"Entry format Error:{e}\")\n",
    "        try:\n",
    "            print(entry)\n",
    "        except Exception as e:\n",
    "            print(f\"Error processing entry '{title}': {e}\")"
   ]
  },
  {
   "cell_type": "code",
   "execution_count": 24,
   "metadata": {},
   "outputs": [
    {
     "name": "stdout",
     "output_type": "stream",
     "text": [
      "http://export.arxiv.org/api/query?search_query=ti:graph+AND+all:minor&&start=0&max_results=10\n",
      "{'id': 'http://arxiv.org/abs/1604.04072v1', 'guidislink': True, 'link': 'http://arxiv.org/abs/1604.04072v1', 'updated': '2016-04-14T08:34:22Z', 'updated_parsed': time.struct_time(tm_year=2016, tm_mon=4, tm_mday=14, tm_hour=8, tm_min=34, tm_sec=22, tm_wday=3, tm_yday=105, tm_isdst=0), 'published': '2016-04-14T08:34:22Z', 'published_parsed': time.struct_time(tm_year=2016, tm_mon=4, tm_mday=14, tm_hour=8, tm_min=34, tm_sec=22, tm_wday=3, tm_yday=105, tm_isdst=0), 'title': 'Graph Nimors', 'title_detail': {'type': 'text/plain', 'language': None, 'base': '', 'value': 'Graph Nimors'}, 'summary': 'In the game of Graph Nimors, two players alternately perform graph minor\\noperations (deletion and contraction of edges) on a graph until no edges\\nremain, at which point the player who last moved wins. We present theoretical\\nand experimental results and conjectures regarding this game.', 'summary_detail': {'type': 'text/plain', 'language': None, 'base': '', 'value': 'In the game of Graph Nimors, two players alternately perform graph minor\\noperations (deletion and contraction of edges) on a graph until no edges\\nremain, at which point the player who last moved wins. We present theoretical\\nand experimental results and conjectures regarding this game.'}, 'authors': [{'name': 'Matthew Skala'}], 'author_detail': {'name': 'Matthew Skala'}, 'author': 'Matthew Skala', 'arxiv_comment': '32 pages including appendix, 4 figures', 'links': [{'href': 'http://arxiv.org/abs/1604.04072v1', 'rel': 'alternate', 'type': 'text/html'}, {'title': 'pdf', 'href': 'http://arxiv.org/pdf/1604.04072v1', 'rel': 'related', 'type': 'application/pdf'}], 'arxiv_primary_category': {'term': 'math.CO', 'scheme': 'http://arxiv.org/schemas/atom'}, 'tags': [{'term': 'math.CO', 'scheme': 'http://arxiv.org/schemas/atom', 'label': None}, {'term': 'G.2.2', 'scheme': 'http://arxiv.org/schemas/atom', 'label': None}]}\n",
      "{'id': 'http://arxiv.org/abs/1409.8114v2', 'guidislink': True, 'link': 'http://arxiv.org/abs/1409.8114v2', 'updated': '2015-05-29T09:02:47Z', 'updated_parsed': time.struct_time(tm_year=2015, tm_mon=5, tm_mday=29, tm_hour=9, tm_min=2, tm_sec=47, tm_wday=4, tm_yday=149, tm_isdst=0), 'published': '2014-09-29T13:28:48Z', 'published_parsed': time.struct_time(tm_year=2014, tm_mon=9, tm_mday=29, tm_hour=13, tm_min=28, tm_sec=48, tm_wday=0, tm_yday=272, tm_isdst=0), 'title': 'Graph properties of graph associahedra', 'title_detail': {'type': 'text/plain', 'language': None, 'base': '', 'value': 'Graph properties of graph associahedra'}, 'summary': 'A graph associahedron is a simple polytope whose face lattice encodes the\\nnested structure of the connected subgraphs of a given graph. In this paper, we\\nstudy certain graph properties of the 1-skeleta of graph associahedra, such as\\ntheir diameter and their Hamiltonicity. Our results extend known results for\\nthe classical associahedra (path associahedra) and permutahedra (complete graph\\nassociahedra). We also discuss partial extensions to the family of nestohedra.', 'summary_detail': {'type': 'text/plain', 'language': None, 'base': '', 'value': 'A graph associahedron is a simple polytope whose face lattice encodes the\\nnested structure of the connected subgraphs of a given graph. In this paper, we\\nstudy certain graph properties of the 1-skeleta of graph associahedra, such as\\ntheir diameter and their Hamiltonicity. Our results extend known results for\\nthe classical associahedra (path associahedra) and permutahedra (complete graph\\nassociahedra). We also discuss partial extensions to the family of nestohedra.'}, 'authors': [{'name': 'Thibault Manneville'}, {'name': 'Vincent Pilaud'}], 'author_detail': {'name': 'Vincent Pilaud'}, 'author': 'Vincent Pilaud', 'arxiv_comment': '26 pages, 20 figures. Version 2: final version with minor corrections', 'arxiv_journal_ref': \"S\\\\'em. Lothar. Combin., B73d, 31 pp., 2015\", 'links': [{'href': 'http://arxiv.org/abs/1409.8114v2', 'rel': 'alternate', 'type': 'text/html'}, {'title': 'pdf', 'href': 'http://arxiv.org/pdf/1409.8114v2', 'rel': 'related', 'type': 'application/pdf'}], 'arxiv_primary_category': {'term': 'math.CO', 'scheme': 'http://arxiv.org/schemas/atom'}, 'tags': [{'term': 'math.CO', 'scheme': 'http://arxiv.org/schemas/atom', 'label': None}, {'term': '52B05, 05C12, 05C45', 'scheme': 'http://arxiv.org/schemas/atom', 'label': None}]}\n",
      "{'id': 'http://arxiv.org/abs/1205.6510v2', 'guidislink': True, 'link': 'http://arxiv.org/abs/1205.6510v2', 'updated': '2014-01-30T04:33:56Z', 'updated_parsed': time.struct_time(tm_year=2014, tm_mon=1, tm_mday=30, tm_hour=4, tm_min=33, tm_sec=56, tm_wday=3, tm_yday=30, tm_isdst=0), 'published': '2012-05-29T22:29:47Z', 'published_parsed': time.struct_time(tm_year=2012, tm_mon=5, tm_mday=29, tm_hour=22, tm_min=29, tm_sec=47, tm_wday=1, tm_yday=150, tm_isdst=0), 'title': 'Positive graphs', 'title_detail': {'type': 'text/plain', 'language': None, 'base': '', 'value': 'Positive graphs'}, 'summary': 'We study \"positive\" graphs that have a nonnegative homomorphism number into\\nevery edge-weighted graph (where the edgeweights may be negative). We\\nconjecture that all positive graphs can be obtained by taking two copies of an\\narbitrary simple graph and gluing them together along an independent set of\\nnodes. We prove the conjecture for various classes of graphs including all\\ntrees. We prove a number of properties of positive graphs, including the fact\\nthat they have a homomorphic image which has at least half the original number\\nof nodes but in which every edge has an even number of pre-images. The results,\\ncombined with a computer program, imply that the conjecture is true for all\\ngraphs up to 9 nodes.', 'summary_detail': {'type': 'text/plain', 'language': None, 'base': '', 'value': 'We study \"positive\" graphs that have a nonnegative homomorphism number into\\nevery edge-weighted graph (where the edgeweights may be negative). We\\nconjecture that all positive graphs can be obtained by taking two copies of an\\narbitrary simple graph and gluing them together along an independent set of\\nnodes. We prove the conjecture for various classes of graphs including all\\ntrees. We prove a number of properties of positive graphs, including the fact\\nthat they have a homomorphic image which has at least half the original number\\nof nodes but in which every edge has an even number of pre-images. The results,\\ncombined with a computer program, imply that the conjecture is true for all\\ngraphs up to 9 nodes.'}, 'authors': [{'name': 'Omar Antolín Camarena'}, {'name': 'Endre Csóka'}, {'name': 'Tamás Hubai'}, {'name': 'Gábor Lippner'}, {'name': 'László Lovász'}], 'author_detail': {'name': 'László Lovász'}, 'author': 'László Lovász', 'arxiv_comment': '17 pages, 5 figures; minor revision', 'links': [{'href': 'http://arxiv.org/abs/1205.6510v2', 'rel': 'alternate', 'type': 'text/html'}, {'title': 'pdf', 'href': 'http://arxiv.org/pdf/1205.6510v2', 'rel': 'related', 'type': 'application/pdf'}], 'arxiv_primary_category': {'term': 'math.CO', 'scheme': 'http://arxiv.org/schemas/atom'}, 'tags': [{'term': 'math.CO', 'scheme': 'http://arxiv.org/schemas/atom', 'label': None}, {'term': '05C75, 05C22, 05C60, 37A05', 'scheme': 'http://arxiv.org/schemas/atom', 'label': None}]}\n",
      "{'id': 'http://arxiv.org/abs/2003.02320v6', 'guidislink': True, 'link': 'http://arxiv.org/abs/2003.02320v6', 'updated': '2021-09-11T21:36:53Z', 'updated_parsed': time.struct_time(tm_year=2021, tm_mon=9, tm_mday=11, tm_hour=21, tm_min=36, tm_sec=53, tm_wday=5, tm_yday=254, tm_isdst=0), 'published': '2020-03-04T20:20:32Z', 'published_parsed': time.struct_time(tm_year=2020, tm_mon=3, tm_mday=4, tm_hour=20, tm_min=20, tm_sec=32, tm_wday=2, tm_yday=64, tm_isdst=0), 'title': 'Knowledge Graphs', 'title_detail': {'type': 'text/plain', 'language': None, 'base': '', 'value': 'Knowledge Graphs'}, 'summary': 'In this paper we provide a comprehensive introduction to knowledge graphs,\\nwhich have recently garnered significant attention from both industry and\\nacademia in scenarios that require exploiting diverse, dynamic, large-scale\\ncollections of data. After some opening remarks, we motivate and contrast\\nvarious graph-based data models and query languages that are used for knowledge\\ngraphs. We discuss the roles of schema, identity, and context in knowledge\\ngraphs. We explain how knowledge can be represented and extracted using a\\ncombination of deductive and inductive techniques. We summarise methods for the\\ncreation, enrichment, quality assessment, refinement, and publication of\\nknowledge graphs. We provide an overview of prominent open knowledge graphs and\\nenterprise knowledge graphs, their applications, and how they use the\\naforementioned techniques. We conclude with high-level future research\\ndirections for knowledge graphs.', 'summary_detail': {'type': 'text/plain', 'language': None, 'base': '', 'value': 'In this paper we provide a comprehensive introduction to knowledge graphs,\\nwhich have recently garnered significant attention from both industry and\\nacademia in scenarios that require exploiting diverse, dynamic, large-scale\\ncollections of data. After some opening remarks, we motivate and contrast\\nvarious graph-based data models and query languages that are used for knowledge\\ngraphs. We discuss the roles of schema, identity, and context in knowledge\\ngraphs. We explain how knowledge can be represented and extracted using a\\ncombination of deductive and inductive techniques. We summarise methods for the\\ncreation, enrichment, quality assessment, refinement, and publication of\\nknowledge graphs. We provide an overview of prominent open knowledge graphs and\\nenterprise knowledge graphs, their applications, and how they use the\\naforementioned techniques. We conclude with high-level future research\\ndirections for knowledge graphs.'}, 'authors': [{'name': 'Aidan Hogan'}, {'name': 'Eva Blomqvist'}, {'name': 'Michael Cochez'}, {'name': \"Claudia d'Amato\"}, {'name': 'Gerard de Melo'}, {'name': 'Claudio Gutierrez'}, {'name': 'José Emilio Labra Gayo'}, {'name': 'Sabrina Kirrane'}, {'name': 'Sebastian Neumaier'}, {'name': 'Axel Polleres'}, {'name': 'Roberto Navigli'}, {'name': 'Axel-Cyrille Ngonga Ngomo'}, {'name': 'Sabbir M. Rashid'}, {'name': 'Anisa Rula'}, {'name': 'Lukas Schmelzeisen'}, {'name': 'Juan Sequeda'}, {'name': 'Steffen Staab'}, {'name': 'Antoine Zimmermann'}], 'author_detail': {'name': 'Antoine Zimmermann'}, 'author': 'Antoine Zimmermann', 'arxiv_doi': '10.1145/3447772', 'links': [{'title': 'doi', 'href': 'http://dx.doi.org/10.1145/3447772', 'rel': 'related', 'type': 'text/html'}, {'href': 'http://arxiv.org/abs/2003.02320v6', 'rel': 'alternate', 'type': 'text/html'}, {'title': 'pdf', 'href': 'http://arxiv.org/pdf/2003.02320v6', 'rel': 'related', 'type': 'application/pdf'}], 'arxiv_comment': 'Revision from v5: Correcting errata from previous version for\\n  entailment/models, and some other minor typos', 'arxiv_journal_ref': 'ACM Comput. Surv. 54(4): 71:1-71:37 (2021)', 'arxiv_primary_category': {'term': 'cs.AI', 'scheme': 'http://arxiv.org/schemas/atom'}, 'tags': [{'term': 'cs.AI', 'scheme': 'http://arxiv.org/schemas/atom', 'label': None}, {'term': 'cs.DB', 'scheme': 'http://arxiv.org/schemas/atom', 'label': None}, {'term': 'cs.LG', 'scheme': 'http://arxiv.org/schemas/atom', 'label': None}]}\n",
      "{'id': 'http://arxiv.org/abs/0707.0133v1', 'guidislink': True, 'link': 'http://arxiv.org/abs/0707.0133v1', 'updated': '2007-07-01T23:52:19Z', 'updated_parsed': time.struct_time(tm_year=2007, tm_mon=7, tm_mday=1, tm_hour=23, tm_min=52, tm_sec=19, tm_wday=6, tm_yday=182, tm_isdst=0), 'published': '2007-07-01T23:52:19Z', 'published_parsed': time.struct_time(tm_year=2007, tm_mon=7, tm_mday=1, tm_hour=23, tm_min=52, tm_sec=19, tm_wday=6, tm_yday=182, tm_isdst=0), 'title': 'Minors in expanding graphs', 'title_detail': {'type': 'text/plain', 'language': None, 'base': '', 'value': 'Minors in expanding graphs'}, 'summary': 'Extending several previous results we obtained nearly tight estimates on the\\nmaximum size of a clique-minor in various classes of expanding graphs. These\\nresults can be used to show that graphs without short cycles and other H-free\\ngraphs contain large clique-minors, resolving some open questions in this area.', 'summary_detail': {'type': 'text/plain', 'language': None, 'base': '', 'value': 'Extending several previous results we obtained nearly tight estimates on the\\nmaximum size of a clique-minor in various classes of expanding graphs. These\\nresults can be used to show that graphs without short cycles and other H-free\\ngraphs contain large clique-minors, resolving some open questions in this area.'}, 'authors': [{'name': 'Michael Krivelevich'}, {'name': 'Benny Sudakov'}], 'author_detail': {'name': 'Benny Sudakov'}, 'author': 'Benny Sudakov', 'links': [{'href': 'http://arxiv.org/abs/0707.0133v1', 'rel': 'alternate', 'type': 'text/html'}, {'title': 'pdf', 'href': 'http://arxiv.org/pdf/0707.0133v1', 'rel': 'related', 'type': 'application/pdf'}], 'arxiv_primary_category': {'term': 'math.CO', 'scheme': 'http://arxiv.org/schemas/atom'}, 'tags': [{'term': 'math.CO', 'scheme': 'http://arxiv.org/schemas/atom', 'label': None}]}\n",
      "{'id': 'http://arxiv.org/abs/2305.06673v1', 'guidislink': True, 'link': 'http://arxiv.org/abs/2305.06673v1', 'updated': '2023-05-11T09:13:50Z', 'updated_parsed': time.struct_time(tm_year=2023, tm_mon=5, tm_mday=11, tm_hour=9, tm_min=13, tm_sec=50, tm_wday=3, tm_yday=131, tm_isdst=0), 'published': '2023-05-11T09:13:50Z', 'published_parsed': time.struct_time(tm_year=2023, tm_mon=5, tm_mday=11, tm_hour=9, tm_min=13, tm_sec=50, tm_wday=3, tm_yday=131, tm_isdst=0), 'title': 'Minor-Universal Graph for Graphs on Surfaces', 'title_detail': {'type': 'text/plain', 'language': None, 'base': '', 'value': 'Minor-Universal Graph for Graphs on Surfaces'}, 'summary': 'We show that, for every n and every surface $\\\\Sigma$, there is a graph U\\nembeddable on $\\\\Sigma$ with at most cn^2 vertices that contains as minor every\\ngraph embeddable on $\\\\Sigma$ with n vertices. The constant c depends\\npolynomially on the Euler genus of $\\\\Sigma$. This generalizes a well-known\\nresult for planar graphs due to Robertson, Seymour, and Thomas [Quickly\\nExcluding a Planar Graph. J. Comb. Theory B, 1994] which states that the square\\ngrid on 4n^2 vertices contains as minor every planar graph with n vertices.', 'summary_detail': {'type': 'text/plain', 'language': None, 'base': '', 'value': 'We show that, for every n and every surface $\\\\Sigma$, there is a graph U\\nembeddable on $\\\\Sigma$ with at most cn^2 vertices that contains as minor every\\ngraph embeddable on $\\\\Sigma$ with n vertices. The constant c depends\\npolynomially on the Euler genus of $\\\\Sigma$. This generalizes a well-known\\nresult for planar graphs due to Robertson, Seymour, and Thomas [Quickly\\nExcluding a Planar Graph. J. Comb. Theory B, 1994] which states that the square\\ngrid on 4n^2 vertices contains as minor every planar graph with n vertices.'}, 'authors': [{'name': 'Cyril Gavoille'}, {'name': 'Claire Hilaire'}], 'author_detail': {'name': 'Claire Hilaire'}, 'arxiv_affiliation': 'LaBRI, UB', 'author': 'Claire Hilaire', 'links': [{'href': 'http://arxiv.org/abs/2305.06673v1', 'rel': 'alternate', 'type': 'text/html'}, {'title': 'pdf', 'href': 'http://arxiv.org/pdf/2305.06673v1', 'rel': 'related', 'type': 'application/pdf'}], 'arxiv_primary_category': {'term': 'cs.DM', 'scheme': 'http://arxiv.org/schemas/atom'}, 'tags': [{'term': 'cs.DM', 'scheme': 'http://arxiv.org/schemas/atom', 'label': None}]}\n",
      "{'id': 'http://arxiv.org/abs/1701.00973v2', 'guidislink': True, 'link': 'http://arxiv.org/abs/1701.00973v2', 'updated': '2018-01-05T15:27:57Z', 'updated_parsed': time.struct_time(tm_year=2018, tm_mon=1, tm_mday=5, tm_hour=15, tm_min=27, tm_sec=57, tm_wday=4, tm_yday=5, tm_isdst=0), 'published': '2017-01-04T11:54:05Z', 'published_parsed': time.struct_time(tm_year=2017, tm_mon=1, tm_mday=4, tm_hour=11, tm_min=54, tm_sec=5, tm_wday=2, tm_yday=4, tm_isdst=0), 'title': 'Subcritical graph classes containing all planar graphs', 'title_detail': {'type': 'text/plain', 'language': None, 'base': '', 'value': 'Subcritical graph classes containing all planar graphs'}, 'summary': 'We construct minor-closed addable families of graphs that are subcritical and\\ncontain all planar graphs. This contradicts (one direction of) a well-known\\nconjecture of Noy.', 'summary_detail': {'type': 'text/plain', 'language': None, 'base': '', 'value': 'We construct minor-closed addable families of graphs that are subcritical and\\ncontain all planar graphs. This contradicts (one direction of) a well-known\\nconjecture of Noy.'}, 'authors': [{'name': 'Agelos Georgakopoulos'}, {'name': 'Stephan Wagner'}], 'author_detail': {'name': 'Stephan Wagner'}, 'author': 'Stephan Wagner', 'links': [{'href': 'http://arxiv.org/abs/1701.00973v2', 'rel': 'alternate', 'type': 'text/html'}, {'title': 'pdf', 'href': 'http://arxiv.org/pdf/1701.00973v2', 'rel': 'related', 'type': 'application/pdf'}], 'arxiv_primary_category': {'term': 'math.CO', 'scheme': 'http://arxiv.org/schemas/atom'}, 'tags': [{'term': 'math.CO', 'scheme': 'http://arxiv.org/schemas/atom', 'label': None}, {'term': '05C30, 05A16, 05C10, 05C80, 05C83', 'scheme': 'http://arxiv.org/schemas/atom', 'label': None}]}\n",
      "{'id': 'http://arxiv.org/abs/2404.13389v2', 'guidislink': True, 'link': 'http://arxiv.org/abs/2404.13389v2', 'updated': '2024-11-13T04:34:46Z', 'updated_parsed': time.struct_time(tm_year=2024, tm_mon=11, tm_mday=13, tm_hour=4, tm_min=34, tm_sec=46, tm_wday=2, tm_yday=318, tm_isdst=0), 'published': '2024-04-20T14:16:11Z', 'published_parsed': time.struct_time(tm_year=2024, tm_mon=4, tm_mday=20, tm_hour=14, tm_min=16, tm_sec=11, tm_wday=5, tm_yday=111, tm_isdst=0), 'title': 'Eigenvalues and graph minors', 'title_detail': {'type': 'text/plain', 'language': None, 'base': '', 'value': 'Eigenvalues and graph minors'}, 'summary': 'Let $spex(n,H_{minor})$ denote the maximum spectral radius of $n$-vertex\\n$H$-minor free graphs. The problem on determining this extremal value can be\\ndated back to the early 1990s. Up to now, it has been solved for $n$\\nsufficiently large and some special minors, such as $\\\\{K_{2,3},K_4\\\\}$,\\n$\\\\{K_{3,3},K_5\\\\}$, $K_r$ and $K_{s,t}$. In this paper, we find some unified\\nphenomena on general minors. Every graph $G$ on $n$ vertices with spectral\\nradius $\\\\rho\\\\geq spex(n,H_{minor})$ contains either an $H$ minor or a spanning\\nbook $K_{\\\\gamma_H}\\\\nabla(n-\\\\gamma_H)K_1$, where $\\\\gamma_H=|H|-\\\\alpha(H)-1$.\\nFurthermore, assume that $G$ is $H$-minor free and $\\\\Gamma^*_s(H)$ is the\\nfamily of $s$-vertex irreducible induced subgraphs of $H$, then $G$ minus its\\n$\\\\gamma_H$ dominating vertices is $\\\\Gamma^*_{\\\\alpha(H)+1}(H)$-minor saturate,\\nand it is further edge-maximal if $\\\\Gamma^*_{\\\\alpha(H)+1}(H)$ is a connected\\nfamily. As applications, we obtain some known results on minors mentioned\\nabove. We also determine the extremal values for some other minors, such as\\nflowers, wheels, generalized books and complete multi-partite graphs. Our\\nresults extend some conjectures on planar graphs, outer-planar graphs and\\n$K_{s,t}$-minor free graphs. To obtain the results, we combine stability\\nmethod, spectral techniques and structural analyses. Especially, we give an\\nexploration of using absorbing method in spectral extremal problems.', 'summary_detail': {'type': 'text/plain', 'language': None, 'base': '', 'value': 'Let $spex(n,H_{minor})$ denote the maximum spectral radius of $n$-vertex\\n$H$-minor free graphs. The problem on determining this extremal value can be\\ndated back to the early 1990s. Up to now, it has been solved for $n$\\nsufficiently large and some special minors, such as $\\\\{K_{2,3},K_4\\\\}$,\\n$\\\\{K_{3,3},K_5\\\\}$, $K_r$ and $K_{s,t}$. In this paper, we find some unified\\nphenomena on general minors. Every graph $G$ on $n$ vertices with spectral\\nradius $\\\\rho\\\\geq spex(n,H_{minor})$ contains either an $H$ minor or a spanning\\nbook $K_{\\\\gamma_H}\\\\nabla(n-\\\\gamma_H)K_1$, where $\\\\gamma_H=|H|-\\\\alpha(H)-1$.\\nFurthermore, assume that $G$ is $H$-minor free and $\\\\Gamma^*_s(H)$ is the\\nfamily of $s$-vertex irreducible induced subgraphs of $H$, then $G$ minus its\\n$\\\\gamma_H$ dominating vertices is $\\\\Gamma^*_{\\\\alpha(H)+1}(H)$-minor saturate,\\nand it is further edge-maximal if $\\\\Gamma^*_{\\\\alpha(H)+1}(H)$ is a connected\\nfamily. As applications, we obtain some known results on minors mentioned\\nabove. We also determine the extremal values for some other minors, such as\\nflowers, wheels, generalized books and complete multi-partite graphs. Our\\nresults extend some conjectures on planar graphs, outer-planar graphs and\\n$K_{s,t}$-minor free graphs. To obtain the results, we combine stability\\nmethod, spectral techniques and structural analyses. Especially, we give an\\nexploration of using absorbing method in spectral extremal problems.'}, 'authors': [{'name': 'Mingqing Zhai'}, {'name': 'Longfei Fang'}, {'name': 'Huiqiu Lin'}], 'author_detail': {'name': 'Huiqiu Lin'}, 'author': 'Huiqiu Lin', 'links': [{'href': 'http://arxiv.org/abs/2404.13389v2', 'rel': 'alternate', 'type': 'text/html'}, {'title': 'pdf', 'href': 'http://arxiv.org/pdf/2404.13389v2', 'rel': 'related', 'type': 'application/pdf'}], 'arxiv_primary_category': {'term': 'math.CO', 'scheme': 'http://arxiv.org/schemas/atom'}, 'tags': [{'term': 'math.CO', 'scheme': 'http://arxiv.org/schemas/atom', 'label': None}]}\n",
      "{'id': 'http://arxiv.org/abs/1603.00862v1', 'guidislink': True, 'link': 'http://arxiv.org/abs/1603.00862v1', 'updated': '2016-03-02T20:50:06Z', 'updated_parsed': time.struct_time(tm_year=2016, tm_mon=3, tm_mday=2, tm_hour=20, tm_min=50, tm_sec=6, tm_wday=2, tm_yday=62, tm_isdst=0), 'published': '2016-03-02T20:50:06Z', 'published_parsed': time.struct_time(tm_year=2016, tm_mon=3, tm_mday=2, tm_hour=20, tm_min=50, tm_sec=6, tm_wday=2, tm_yday=62, tm_isdst=0), 'title': 'Order nine MMIK graphs', 'title_detail': {'type': 'text/plain', 'language': None, 'base': '', 'value': 'Order nine MMIK graphs'}, 'summary': 'We show that there are exactly eight MMIK (minor minimal intrinsically\\nknotted) graphs of order nine.', 'summary_detail': {'type': 'text/plain', 'language': None, 'base': '', 'value': 'We show that there are exactly eight MMIK (minor minimal intrinsically\\nknotted) graphs of order nine.'}, 'authors': [{'name': 'Thomas W. Mattman'}, {'name': 'Chris Morris'}, {'name': 'Jody Ryker'}], 'author_detail': {'name': 'Jody Ryker'}, 'author': 'Jody Ryker', 'arxiv_comment': '11 pages, 3 figures, submitted to Contemporary Mathematics', 'links': [{'href': 'http://arxiv.org/abs/1603.00862v1', 'rel': 'alternate', 'type': 'text/html'}, {'title': 'pdf', 'href': 'http://arxiv.org/pdf/1603.00862v1', 'rel': 'related', 'type': 'application/pdf'}], 'arxiv_primary_category': {'term': 'math.CO', 'scheme': 'http://arxiv.org/schemas/atom'}, 'tags': [{'term': 'math.CO', 'scheme': 'http://arxiv.org/schemas/atom', 'label': None}, {'term': '05C10', 'scheme': 'http://arxiv.org/schemas/atom', 'label': None}]}\n",
      "{'id': 'http://arxiv.org/abs/1011.5119v1', 'guidislink': True, 'link': 'http://arxiv.org/abs/1011.5119v1', 'updated': '2010-11-23T14:47:11Z', 'updated_parsed': time.struct_time(tm_year=2010, tm_mon=11, tm_mday=23, tm_hour=14, tm_min=47, tm_sec=11, tm_wday=1, tm_yday=327, tm_isdst=0), 'published': '2010-11-23T14:47:11Z', 'published_parsed': time.struct_time(tm_year=2010, tm_mon=11, tm_mday=23, tm_hour=14, tm_min=47, tm_sec=11, tm_wday=1, tm_yday=327, tm_isdst=0), 'title': 'Stochastic Minority on Graphs', 'title_detail': {'type': 'text/plain', 'language': None, 'base': '', 'value': 'Stochastic Minority on Graphs'}, 'summary': 'Cellular automata have been mainly studied on very regular graphs carrying\\nthe vertices (like lines or grids) and under synchronous dynamics (all vertices\\nupdate simultaneously). In this paper, we study how the asynchronism and the\\ngraph act upon the dynamics of the classical Minority rule. Minority has been\\nwell-studied for synchronous updates and is thus a reasonable choice to begin\\nwith. Yet, beyond its apparent simplicity, this rule yields complex behaviors\\nwhen asynchronism is introduced. We investigate the transitory part as well as\\nthe asymptotic behavior of the dynamics under full asynchronism (also called\\nsequential: only one random vertex updates at each time step) for several types\\nof graphs. Such a comparative study is a first step in understanding how the\\nasynchronous dynamics is linked to the topology (the graph).\\n  Previous analyses on the grid [1,2] have observed that Minority seems to\\ninduce fast stabilization. We investigate here this property on arbitrary\\ngraphs using tools such as energy, particles and random walks. We show that the\\nworst case convergence time is, in fact, strongly dependent on the topology. In\\nparticular, we observe that the case of trees is non trivial.', 'summary_detail': {'type': 'text/plain', 'language': None, 'base': '', 'value': 'Cellular automata have been mainly studied on very regular graphs carrying\\nthe vertices (like lines or grids) and under synchronous dynamics (all vertices\\nupdate simultaneously). In this paper, we study how the asynchronism and the\\ngraph act upon the dynamics of the classical Minority rule. Minority has been\\nwell-studied for synchronous updates and is thus a reasonable choice to begin\\nwith. Yet, beyond its apparent simplicity, this rule yields complex behaviors\\nwhen asynchronism is introduced. We investigate the transitory part as well as\\nthe asymptotic behavior of the dynamics under full asynchronism (also called\\nsequential: only one random vertex updates at each time step) for several types\\nof graphs. Such a comparative study is a first step in understanding how the\\nasynchronous dynamics is linked to the topology (the graph).\\n  Previous analyses on the grid [1,2] have observed that Minority seems to\\ninduce fast stabilization. We investigate here this property on arbitrary\\ngraphs using tools such as energy, particles and random walks. We show that the\\nworst case convergence time is, in fact, strongly dependent on the topology. In\\nparticular, we observe that the case of trees is non trivial.'}, 'authors': [{'name': 'Jean-Baptiste Rouquier'}, {'name': 'Damien Regnault'}, {'name': 'Eric Thierry1'}], 'author_detail': {'name': 'Eric Thierry1'}, 'author': 'Eric Thierry1', 'links': [{'href': 'http://arxiv.org/abs/1011.5119v1', 'rel': 'alternate', 'type': 'text/html'}, {'title': 'pdf', 'href': 'http://arxiv.org/pdf/1011.5119v1', 'rel': 'related', 'type': 'application/pdf'}], 'arxiv_primary_category': {'term': 'nlin.CG', 'scheme': 'http://arxiv.org/schemas/atom'}, 'tags': [{'term': 'nlin.CG', 'scheme': 'http://arxiv.org/schemas/atom', 'label': None}, {'term': 'cs.DC', 'scheme': 'http://arxiv.org/schemas/atom', 'label': None}, {'term': 'cs.DM', 'scheme': 'http://arxiv.org/schemas/atom', 'label': None}, {'term': 'math.CO', 'scheme': 'http://arxiv.org/schemas/atom', 'label': None}, {'term': 'math.PR', 'scheme': 'http://arxiv.org/schemas/atom', 'label': None}]}\n"
     ]
    }
   ],
   "source": [
    "x = arXivFind(params=[\"ti:graph\",\"all:minor\"])\n",
    "checkEntries(x)"
   ]
  },
  {
   "cell_type": "code",
   "execution_count": 31,
   "metadata": {},
   "outputs": [
    {
     "name": "stdout",
     "output_type": "stream",
     "text": [
      "dict_keys(['id', 'guidislink', 'link', 'updated', 'updated_parsed', 'published', 'published_parsed', 'title', 'title_detail', 'summary', 'summary_detail', 'authors', 'author_detail', 'author', 'links', 'arxiv_primary_category', 'tags'])\n"
     ]
    }
   ],
   "source": [
    "a = x.entries[-1]\n",
    "print(a.keys())"
   ]
  },
  {
   "cell_type": "code",
   "execution_count": 35,
   "metadata": {},
   "outputs": [
    {
     "name": "stdout",
     "output_type": "stream",
     "text": [
      "[{'href': 'http://arxiv.org/abs/1011.5119v1', 'rel': 'alternate', 'type': 'text/html'}, {'title': 'pdf', 'href': 'http://arxiv.org/pdf/1011.5119v1', 'rel': 'related', 'type': 'application/pdf'}]\n"
     ]
    }
   ],
   "source": [
    "print(a.links)"
   ]
  }
 ],
 "metadata": {
  "kernelspec": {
   "display_name": "base",
   "language": "python",
   "name": "python3"
  },
  "language_info": {
   "codemirror_mode": {
    "name": "ipython",
    "version": 3
   },
   "file_extension": ".py",
   "mimetype": "text/x-python",
   "name": "python",
   "nbconvert_exporter": "python",
   "pygments_lexer": "ipython3",
   "version": "3.12.7"
  }
 },
 "nbformat": 4,
 "nbformat_minor": 2
}
